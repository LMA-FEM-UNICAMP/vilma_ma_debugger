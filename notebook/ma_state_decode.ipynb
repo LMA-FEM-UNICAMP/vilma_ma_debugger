{
 "cells": [
  {
   "cell_type": "code",
   "execution_count": 167,
   "metadata": {},
   "outputs": [],
   "source": [
    "from rich.console import Console\n",
    "from rich.table import Table\n",
    "from rich.text import Text\n",
    "from itertools import zip_longest\n",
    "\n",
    "# states code\n",
    "EMERGENCY_STATE         = 1\n",
    "INITIAL_STATE           = 2\n",
    "MANUAL_STATE            = 4\n",
    "JOYSTICK_STATE          = 8\n",
    "AUTOMATIC_STATE         = 16\n",
    "ADAS_STATE              = 32\n",
    "EMERGENCY_BUTTON        = 256\n",
    "STATE_ERROR             = 512\n",
    "RX_UDP_ERROR            = 1024\n",
    "TX_UDP_ERROR            = 2048\n",
    "ACCELERATOR_USER_ERROR  = 4096\n",
    "TX_RS232_ERROR          = 8192\n",
    "STEER_ERROR             = 16384\n",
    "BRAKE_ERROR             = 32768\n",
    "STATE_ESTIMATION_ERROR  = 65536\n",
    "CONTROLLER_ERROR        = 131072\n",
    "\n",
    "STEER_TURN_OFF_MOTOR            = 0\n",
    "STEER_VELOCITY_MODE             = 1\n",
    "STEER_POSITION_MODE             = 2\n",
    "STEER_TORQUE_MODE               = 3\n",
    "STEER_HOME_MODE                 = 4\n",
    "STEER_SERVO_BUS_VOLTAGE_ERROR   = 8\n",
    "STEER_PEAK_OVER_CURRENT         = 16\n",
    "STEER_EXCESSIVE_TEMPERATURE     = 32\n",
    "STEER_EXCESSIVE_ERROR_POSITION  = 64\n",
    "STEER_COM_ERROR                 = 128\n",
    "STEER_PWM_SATURATION            = 256\n",
    "STEER_RIGHT_OVER_TRAVEL         = 512\n",
    "STEER_LEFT_OVER_TRAVEL          = 1024\n",
    "\n",
    "operation_state_codes = [EMERGENCY_STATE, INITIAL_STATE, MANUAL_STATE, JOYSTICK_STATE, AUTOMATIC_STATE, ADAS_STATE, \n",
    "                 EMERGENCY_BUTTON, STATE_ERROR, RX_UDP_ERROR, TX_UDP_ERROR, ACCELERATOR_USER_ERROR, STEER_ERROR,\n",
    "                 BRAKE_ERROR, STATE_ESTIMATION_ERROR, CONTROLLER_ERROR]\n",
    "\n",
    "operation_state_labels = ['EMERGENCY_STATE', 'INITIAL_STATE', 'MANUAL_STATE', 'JOYSTICK_STATE', 'AUTOMATIC_STATE', 'ADAS_STATE', \n",
    "                 'EMERGENCY_BUTTON', 'STATE_ERROR', 'RX_UDP_ERROR', 'TX_UDP_ERROR', 'ACCELERATOR_USER_ERROR', 'STEER_ERROR',\n",
    "                 'BRAKE_ERROR', 'STATE_ESTIMATION_ERROR', 'CONTROLLER_ERROR']\n",
    "\n",
    "steer_state_codes = [STEER_TURN_OFF_MOTOR, STEER_VELOCITY_MODE, STEER_POSITION_MODE, STEER_TORQUE_MODE, STEER_HOME_MODE, STEER_SERVO_BUS_VOLTAGE_ERROR,\n",
    "                     STEER_PEAK_OVER_CURRENT, STEER_EXCESSIVE_TEMPERATURE, STEER_EXCESSIVE_ERROR_POSITION, STEER_COM_ERROR,\n",
    "                     STEER_PWM_SATURATION, STEER_RIGHT_OVER_TRAVEL, STEER_LEFT_OVER_TRAVEL]\n",
    "\n",
    "steer_state_labels = ['STEER_TURN_OFF_MOTOR', 'STEER_VELOCITY_MODE', 'STEER_POSITION_MODE', 'STEER_TORQUE_MODE', 'STEER_HOME_MODE', 'STEER_SERVO_BUS_VOLTAGE_ERROR',\n",
    "                     'STEER_PEAK_OVER_CURRENT', 'STEER_EXCESSIVE_TEMPERATURE', 'STEER_EXCESSIVE_ERROR_POSITION', 'STEER_COM_ERROR',\n",
    "                     'STEER_PWM_SATURATION', 'STEER_RIGHT_OVER_TRAVEL', 'STEER_LEFT_OVER_TRAVEL']\n",
    "\n"
   ]
  },
  {
   "cell_type": "code",
   "execution_count": 168,
   "metadata": {},
   "outputs": [],
   "source": [
    "def decode_state_data(code, list_of_codes):\n",
    "    if code == 0:\n",
    "        return [1 if (code & state == state) else 0 for state in list_of_codes]\n",
    "    else:\n",
    "        return [1 if (code & state == state and code & state != 0) else 0 for state in list_of_codes]"
   ]
  },
  {
   "cell_type": "code",
   "execution_count": 169,
   "metadata": {},
   "outputs": [
    {
     "name": "stdout",
     "output_type": "stream",
     "text": [
      "[0, 0, 1, 0, 0, 0, 0, 1, 1, 1, 0, 0, 0]\n"
     ]
    },
    {
     "data": {
      "text/html": [
       "<pre style=\"white-space:pre;overflow-x:auto;line-height:normal;font-family:Menlo,'DejaVu Sans Mono',consolas,'Courier New',monospace\"><span style=\"font-style: italic\">           Steer state            </span>\n",
       "┏━━━━━━━━━━━━━━━━━━━━━━━━━━━━━━━━┓\n",
       "┃<span style=\"font-weight: bold\"> State                          </span>┃\n",
       "┡━━━━━━━━━━━━━━━━━━━━━━━━━━━━━━━━┩\n",
       "│ <span style=\"color: #00ff00; text-decoration-color: #00ff00\">STEER_POSITION_MODE           </span> │\n",
       "│ <span style=\"color: #00ff00; text-decoration-color: #00ff00\">STEER_EXCESSIVE_TEMPERATURE   </span> │\n",
       "│ <span style=\"color: #00ff00; text-decoration-color: #00ff00\">STEER_EXCESSIVE_ERROR_POSITION</span> │\n",
       "│ <span style=\"color: #00ff00; text-decoration-color: #00ff00\">STEER_COM_ERROR               </span> │\n",
       "└────────────────────────────────┘\n",
       "</pre>\n"
      ],
      "text/plain": [
       "\u001b[3m           Steer state            \u001b[0m\n",
       "┏━━━━━━━━━━━━━━━━━━━━━━━━━━━━━━━━┓\n",
       "┃\u001b[1m \u001b[0m\u001b[1mState                         \u001b[0m\u001b[1m \u001b[0m┃\n",
       "┡━━━━━━━━━━━━━━━━━━━━━━━━━━━━━━━━┩\n",
       "│ \u001b[92mSTEER_POSITION_MODE           \u001b[0m │\n",
       "│ \u001b[92mSTEER_EXCESSIVE_TEMPERATURE   \u001b[0m │\n",
       "│ \u001b[92mSTEER_EXCESSIVE_ERROR_POSITION\u001b[0m │\n",
       "│ \u001b[92mSTEER_COM_ERROR               \u001b[0m │\n",
       "└────────────────────────────────┘\n"
      ]
     },
     "metadata": {},
     "output_type": "display_data"
    }
   ],
   "source": [
    "table_steer_state = Table(title='Steer state')\n",
    "\n",
    "steer_columns = ['State']\n",
    "\n",
    "steer_rows = []\n",
    "\n",
    "code = 2 + 128 + 32 + 64\n",
    "\n",
    "states = decode_state_data(code,steer_state_codes)\n",
    "\n",
    "print(states)\n",
    "\n",
    "i = 0\n",
    "while i < len(states):\n",
    "    if 1 == i:\n",
    "        if states[3]:\n",
    "            steer_rows.append([Text(steer_state_labels[3],style='bright_green')])\n",
    "        elif states[2]:\n",
    "            steer_rows.append([Text(steer_state_labels[2],style='bright_green')])\n",
    "        elif states[1]:\n",
    "            steer_rows.append([Text(steer_state_labels[1],style='bright_green')])\n",
    "        i = 4\n",
    "    \n",
    "    if states[i] == 1:\n",
    "        steer_rows.append([Text(steer_state_labels[i],style='bright_green')])\n",
    "        \n",
    "    i = i + 1\n",
    "    \n",
    "for column in steer_columns:\n",
    "    table_steer_state.add_column(column)\n",
    "\n",
    "for row in steer_rows:\n",
    "    table_steer_state.add_row(*row)\n",
    "    \n",
    "console = Console()\n",
    "console.print(table_steer_state)\n",
    "        "
   ]
  },
  {
   "cell_type": "code",
   "execution_count": 170,
   "metadata": {},
   "outputs": [
    {
     "name": "stdout",
     "output_type": "stream",
     "text": [
      "[0, 1, 0, 0, 0, 1, 0, 0, 0, 0, 0, 0, 0, 0, 0]\n"
     ]
    },
    {
     "data": {
      "text/html": [
       "<pre style=\"white-space:pre;overflow-x:auto;line-height:normal;font-family:Menlo,'DejaVu Sans Mono',consolas,'Courier New',monospace\"><span style=\"font-style: italic\"> Operation state </span>\n",
       "┏━━━━━━━━━━━━━━━┓\n",
       "┃<span style=\"font-weight: bold\"> State         </span>┃\n",
       "┡━━━━━━━━━━━━━━━┩\n",
       "│ <span style=\"color: #00ff00; text-decoration-color: #00ff00\">INITIAL_STATE</span> │\n",
       "│ <span style=\"color: #00ff00; text-decoration-color: #00ff00\">ADAS_STATE   </span> │\n",
       "└───────────────┘\n",
       "</pre>\n"
      ],
      "text/plain": [
       "\u001b[3m Operation state \u001b[0m\n",
       "┏━━━━━━━━━━━━━━━┓\n",
       "┃\u001b[1m \u001b[0m\u001b[1mState        \u001b[0m\u001b[1m \u001b[0m┃\n",
       "┡━━━━━━━━━━━━━━━┩\n",
       "│ \u001b[92mINITIAL_STATE\u001b[0m │\n",
       "│ \u001b[92mADAS_STATE   \u001b[0m │\n",
       "└───────────────┘\n"
      ]
     },
     "metadata": {},
     "output_type": "display_data"
    }
   ],
   "source": [
    "table_operation_state = Table(title='Operation state')\n",
    "\n",
    "operation_columns = ['State']\n",
    "\n",
    "operation_rows = []\n",
    "\n",
    "code = 2 + 128 + 32 + 64\n",
    "\n",
    "states = decode_state_data(code,operation_state_codes)\n",
    "\n",
    "print(states)\n",
    "\n",
    "i = 0\n",
    "while i < len(states):\n",
    "    \n",
    "    if states[i] == 1:\n",
    "        operation_rows.append([Text(operation_state_labels[i],style='bright_green')])\n",
    "        \n",
    "    i = i + 1\n",
    "    \n",
    "for column in operation_columns:\n",
    "    table_operation_state.add_column(column)\n",
    "\n",
    "for row in operation_rows:\n",
    "    table_operation_state.add_row(*row)\n",
    "    \n",
    "console = Console()\n",
    "console.print(table_operation_state)\n",
    "        "
   ]
  },
  {
   "cell_type": "code",
   "execution_count": 171,
   "metadata": {},
   "outputs": [
    {
     "data": {
      "text/html": [
       "<pre style=\"white-space:pre;overflow-x:auto;line-height:normal;font-family:Menlo,'DejaVu Sans Mono',consolas,'Courier New',monospace\"><span style=\"font-style: italic\">                     VILMA state                     </span>\n",
       "┏━━━━━━━━━━━━━━━━━━┳━━━━━━━━━━━━━━━━━━━━━━━━━━━━━━━━┓\n",
       "┃<span style=\"font-weight: bold\"> Operation states </span>┃<span style=\"font-weight: bold\">          Steer states          </span>┃\n",
       "┡━━━━━━━━━━━━━━━━━━╇━━━━━━━━━━━━━━━━━━━━━━━━━━━━━━━━┩\n",
       "│ <span style=\"color: #00ff00; text-decoration-color: #00ff00\"> INITIAL_STATE  </span> │ <span style=\"color: #00ff00; text-decoration-color: #00ff00\">     STEER_POSITION_MODE      </span> │\n",
       "│ <span style=\"color: #00ff00; text-decoration-color: #00ff00\">   ADAS_STATE   </span> │ <span style=\"color: #00ff00; text-decoration-color: #00ff00\"> STEER_EXCESSIVE_TEMPERATURE  </span> │\n",
       "│                  │ <span style=\"color: #00ff00; text-decoration-color: #00ff00\">STEER_EXCESSIVE_ERROR_POSITION</span> │\n",
       "│                  │ <span style=\"color: #00ff00; text-decoration-color: #00ff00\">       STEER_COM_ERROR        </span> │\n",
       "└──────────────────┴────────────────────────────────┘\n",
       "</pre>\n"
      ],
      "text/plain": [
       "\u001b[3m                     VILMA state                     \u001b[0m\n",
       "┏━━━━━━━━━━━━━━━━━━┳━━━━━━━━━━━━━━━━━━━━━━━━━━━━━━━━┓\n",
       "┃\u001b[1m \u001b[0m\u001b[1mOperation states\u001b[0m\u001b[1m \u001b[0m┃\u001b[1m \u001b[0m\u001b[1m         Steer states         \u001b[0m\u001b[1m \u001b[0m┃\n",
       "┡━━━━━━━━━━━━━━━━━━╇━━━━━━━━━━━━━━━━━━━━━━━━━━━━━━━━┩\n",
       "│ \u001b[92m INITIAL_STATE  \u001b[0m │ \u001b[92m     STEER_POSITION_MODE      \u001b[0m │\n",
       "│ \u001b[92m   ADAS_STATE   \u001b[0m │ \u001b[92m STEER_EXCESSIVE_TEMPERATURE  \u001b[0m │\n",
       "│                  │ \u001b[92mSTEER_EXCESSIVE_ERROR_POSITION\u001b[0m │\n",
       "│                  │ \u001b[92m       STEER_COM_ERROR        \u001b[0m │\n",
       "└──────────────────┴────────────────────────────────┘\n"
      ]
     },
     "metadata": {},
     "output_type": "display_data"
    },
    {
     "data": {
      "text/html": [
       "<pre style=\"white-space:pre;overflow-x:auto;line-height:normal;font-family:Menlo,'DejaVu Sans Mono',consolas,'Courier New',monospace\"><span style=\"font-style: italic\">                     VILMA state                     </span>\n",
       "┏━━━━━━━━━━━━━━━━━━┳━━━━━━━━━━━━━━━━━━━━━━━━━━━━━━━━┓\n",
       "┃<span style=\"font-weight: bold\"> Operation states </span>┃<span style=\"font-weight: bold\">          Steer states          </span>┃\n",
       "┡━━━━━━━━━━━━━━━━━━╇━━━━━━━━━━━━━━━━━━━━━━━━━━━━━━━━┩\n",
       "│ <span style=\"color: #00ff00; text-decoration-color: #00ff00\"> </span><span style=\"color: #ffffff; text-decoration-color: #ffffff\">INITIAL_STATE</span><span style=\"color: #00ff00; text-decoration-color: #00ff00\">  </span> │ <span style=\"color: #00ff00; text-decoration-color: #00ff00\">     </span><span style=\"color: #ffffff; text-decoration-color: #ffffff\">STEER_POSITION_MODE</span><span style=\"color: #00ff00; text-decoration-color: #00ff00\">      </span> │\n",
       "│ <span style=\"color: #00ff00; text-decoration-color: #00ff00\">   </span><span style=\"color: #ffffff; text-decoration-color: #ffffff\">ADAS_STATE</span><span style=\"color: #00ff00; text-decoration-color: #00ff00\">   </span> │ <span style=\"color: #00ff00; text-decoration-color: #00ff00\"> </span><span style=\"color: #ffffff; text-decoration-color: #ffffff\">STEER_EXCESSIVE_TEMPERATURE</span><span style=\"color: #00ff00; text-decoration-color: #00ff00\">  </span> │\n",
       "│                  │ <span style=\"color: #ffffff; text-decoration-color: #ffffff\">STEER_EXCESSIVE_ERROR_POSITION</span> │\n",
       "│                  │ <span style=\"color: #00ff00; text-decoration-color: #00ff00\">       </span><span style=\"color: #ffffff; text-decoration-color: #ffffff\">STEER_COM_ERROR</span><span style=\"color: #00ff00; text-decoration-color: #00ff00\">        </span> │\n",
       "└──────────────────┴────────────────────────────────┘\n",
       "</pre>\n"
      ],
      "text/plain": [
       "\u001b[3m                     VILMA state                     \u001b[0m\n",
       "┏━━━━━━━━━━━━━━━━━━┳━━━━━━━━━━━━━━━━━━━━━━━━━━━━━━━━┓\n",
       "┃\u001b[1m \u001b[0m\u001b[1mOperation states\u001b[0m\u001b[1m \u001b[0m┃\u001b[1m \u001b[0m\u001b[1m         Steer states         \u001b[0m\u001b[1m \u001b[0m┃\n",
       "┡━━━━━━━━━━━━━━━━━━╇━━━━━━━━━━━━━━━━━━━━━━━━━━━━━━━━┩\n",
       "│ \u001b[92m \u001b[0m\u001b[97mINITIAL_STATE\u001b[0m\u001b[92m  \u001b[0m │ \u001b[92m     \u001b[0m\u001b[97mSTEER_POSITION_MODE\u001b[0m\u001b[92m      \u001b[0m │\n",
       "│ \u001b[92m   \u001b[0m\u001b[97mADAS_STATE\u001b[0m\u001b[92m   \u001b[0m │ \u001b[92m \u001b[0m\u001b[97mSTEER_EXCESSIVE_TEMPERATURE\u001b[0m\u001b[92m  \u001b[0m │\n",
       "│                  │ \u001b[97mSTEER_EXCESSIVE_ERROR_POSITION\u001b[0m │\n",
       "│                  │ \u001b[92m       \u001b[0m\u001b[97mSTEER_COM_ERROR\u001b[0m\u001b[92m        \u001b[0m │\n",
       "└──────────────────┴────────────────────────────────┘\n"
      ]
     },
     "metadata": {},
     "output_type": "display_data"
    }
   ],
   "source": [
    "table_vilma_states = Table(title='VILMA state')\n",
    "\n",
    "vilma_columns = ['Operation states', 'Steer states']\n",
    "    \n",
    "for column in vilma_columns:\n",
    "    table_vilma_states.add_column(column, justify='center', vertical='middle')\n",
    "\n",
    "for operation_state, steer_state in zip_longest(operation_rows, steer_rows, fillvalue=' '):\n",
    "    table_vilma_states.add_row(*operation_state, *steer_state)\n",
    "    \n",
    "console = Console()\n",
    "console.print(table_vilma_states)   \n",
    "    \n",
    "for operation_state, steer_state in zip_longest(operation_rows, steer_rows, fillvalue=' '):\n",
    "    try:\n",
    "        operation_state[0].stylize('bright_white')\n",
    "    except:\n",
    "        None\n",
    "\n",
    "    try:\n",
    "        steer_state[0].stylize('bright_white')\n",
    "    except:\n",
    "        None    \n",
    "\n",
    "console.print(table_vilma_states)  "
   ]
  }
 ],
 "metadata": {
  "kernelspec": {
   "display_name": "Python 3",
   "language": "python",
   "name": "python3"
  },
  "language_info": {
   "codemirror_mode": {
    "name": "ipython",
    "version": 3
   },
   "file_extension": ".py",
   "mimetype": "text/x-python",
   "name": "python",
   "nbconvert_exporter": "python",
   "pygments_lexer": "ipython3",
   "version": "3.10.12"
  }
 },
 "nbformat": 4,
 "nbformat_minor": 2
}
