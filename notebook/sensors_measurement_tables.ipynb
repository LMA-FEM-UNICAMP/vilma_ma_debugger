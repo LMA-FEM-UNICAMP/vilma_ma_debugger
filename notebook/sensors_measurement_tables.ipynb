{
 "cells": [
  {
   "cell_type": "code",
   "execution_count": null,
   "metadata": {},
   "outputs": [],
   "source": [
    "from rich.console import Console\n",
    "from rich.table import Table\n",
    "from rich.text import Text\n",
    "from itertools import zip_longest\n",
    "\n",
    "\n",
    "sensors_ma_labels = ['ROS Time', 'Time PCC', 'Operation state', 'Steer position', 'Steer speed', 'Steer state', 'Steer Vm', 'Steer user torque', 'Gas value', \n",
    "                     'Gas user value', 'Current sensor', 'Acc counter', 'Acc x', 'Acc y', 'Acc z', 'Pressure', 'Time PCC Brake', \n",
    "                     'Brake state', 'Brake value', 'Brake ws front left', 'Brake ws front right', 'Brake ws rear left', 'Brake ws rear right',\n",
    "                     'Brake Acc x', 'Brake Acc y', 'Brake Acc z', 'Brake Gyr z', 'Brake user pressure', 'Brake front encoder', '', 'Gear state']\n",
    "\n",
    "sensors_ma_units = ['s', 's', '', 'rad', 'rad/s', '', 'V', 'Nm', '%', '%', 'A', '', 'g', 'g', 'g', 'kPa', \n",
    "                    's', '', '%', 'km/h', 'km/h', 'km/h', 'km/h', 'g', 'g', 'g', 'degree/s', 'bar', 'pulses/s', '', '']\n",
    "\n",
    "\n",
    "state_ma_labels = ['ROS Time', 'Time PPC', 'Steer angle', 'Steer speed angle', 'Tire angle', 'Tire speed angle', 'Lateral velocity', 'Angular yaw speed', \n",
    "                  'X global position', 'Y global position', 'Yaw angle', 'Longitudinal speed', 'User torque', 'Steer motor voltage', 'Yaw DC error']\n",
    "\n",
    "state_ma_units = ['s', 's', 'rad', 'rad/s', 'rad', 'rad/s', 'm/s', 'rad/s', 'm', 'm', 'rad', 'm/s', 'Nm', 'V', 'rad']\n",
    "\n",
    "joystick_ma_labels = ['ROS Time', 'Time validity', 'Brake command', 'Brake value', 'Steer command', 'Steer value', 'Gas command', 'Gas value', 'Gear state', 'Gear value']\n",
    "\n",
    "joystick_ma_units = ['s', 'ms', '', '', '', '', '', '', '', '']\n",
    "\n",
    "joystick_ma_brake_modes = ['Manual', '', 'Engaged']\n",
    "joystick_ma_steer_modes = ['Manual', 'Angular velocity', 'Steer angle', 'Motor voltage', 'Find zero position']\n",
    "joystick_ma_gas_modes = ['Manual', 'Gas pedal velocity', 'Gas pedal position']\n",
    "joystick_ma_gear_modes = ['Manual', 'N', 'R', 'D']\n",
    "\n"
   ]
  },
  {
   "cell_type": "code",
   "execution_count": 11,
   "metadata": {},
   "outputs": [
    {
     "data": {
      "text/html": [
       "<pre style=\"white-space:pre;overflow-x:auto;line-height:normal;font-family:Menlo,'DejaVu Sans Mono',consolas,'Courier New',monospace\"><span style=\"font-style: italic\">               Joystick                </span>\n",
       "┏━━━━━━━━━━━━━━━┳━━━━━━━━━━━━━━━━━━━━━┓\n",
       "┃<span style=\"font-weight: bold\"> Signal        </span>┃<span style=\"font-weight: bold\"> Value               </span>┃\n",
       "┡━━━━━━━━━━━━━━━╇━━━━━━━━━━━━━━━━━━━━━┩\n",
       "│ <span style=\"color: #00ff00; text-decoration-color: #00ff00\">ROS Time     </span> │ <span style=\"color: #00ff00; text-decoration-color: #00ff00\">134134 s           </span> │\n",
       "│ <span style=\"color: #00ff00; text-decoration-color: #00ff00\">Time validity</span> │ <span style=\"color: #00ff00; text-decoration-color: #00ff00\">34234 ms           </span> │\n",
       "│ <span style=\"color: #00ff00; text-decoration-color: #00ff00\">Brake command</span> │ <span style=\"color: #00ff00; text-decoration-color: #00ff00\">Engaged            </span> │\n",
       "│ <span style=\"color: #00ff00; text-decoration-color: #00ff00\">Brake value  </span> │ <span style=\"color: #00ff00; text-decoration-color: #00ff00\">0.5                </span> │\n",
       "│ <span style=\"color: #00ff00; text-decoration-color: #00ff00\">Steer command</span> │ <span style=\"color: #00ff00; text-decoration-color: #00ff00\">Steer angle        </span> │\n",
       "│ <span style=\"color: #00ff00; text-decoration-color: #00ff00\">Steer value  </span> │ <span style=\"color: #00ff00; text-decoration-color: #00ff00\">-0.5               </span> │\n",
       "│ <span style=\"color: #00ff00; text-decoration-color: #00ff00\">Gas command  </span> │ <span style=\"color: #00ff00; text-decoration-color: #00ff00\">Gas pedal position </span> │\n",
       "│ <span style=\"color: #00ff00; text-decoration-color: #00ff00\">Gas value    </span> │ <span style=\"color: #00ff00; text-decoration-color: #00ff00\">0.7                </span> │\n",
       "│ <span style=\"color: #00ff00; text-decoration-color: #00ff00\">Gear state   </span> │ <span style=\"color: #00ff00; text-decoration-color: #00ff00\">R                  </span> │\n",
       "│ <span style=\"color: #00ff00; text-decoration-color: #00ff00\">Gear value   </span> │ <span style=\"color: #00ff00; text-decoration-color: #00ff00\">0                  </span> │\n",
       "└───────────────┴─────────────────────┘\n",
       "</pre>\n"
      ],
      "text/plain": [
       "\u001b[3m               Joystick                \u001b[0m\n",
       "┏━━━━━━━━━━━━━━━┳━━━━━━━━━━━━━━━━━━━━━┓\n",
       "┃\u001b[1m \u001b[0m\u001b[1mSignal       \u001b[0m\u001b[1m \u001b[0m┃\u001b[1m \u001b[0m\u001b[1mValue              \u001b[0m\u001b[1m \u001b[0m┃\n",
       "┡━━━━━━━━━━━━━━━╇━━━━━━━━━━━━━━━━━━━━━┩\n",
       "│ \u001b[92mROS Time     \u001b[0m │ \u001b[92m134134 s           \u001b[0m │\n",
       "│ \u001b[92mTime validity\u001b[0m │ \u001b[92m34234 ms           \u001b[0m │\n",
       "│ \u001b[92mBrake command\u001b[0m │ \u001b[92mEngaged            \u001b[0m │\n",
       "│ \u001b[92mBrake value  \u001b[0m │ \u001b[92m0.5                \u001b[0m │\n",
       "│ \u001b[92mSteer command\u001b[0m │ \u001b[92mSteer angle        \u001b[0m │\n",
       "│ \u001b[92mSteer value  \u001b[0m │ \u001b[92m-0.5               \u001b[0m │\n",
       "│ \u001b[92mGas command  \u001b[0m │ \u001b[92mGas pedal position \u001b[0m │\n",
       "│ \u001b[92mGas value    \u001b[0m │ \u001b[92m0.7                \u001b[0m │\n",
       "│ \u001b[92mGear state   \u001b[0m │ \u001b[92mR                  \u001b[0m │\n",
       "│ \u001b[92mGear value   \u001b[0m │ \u001b[92m0                  \u001b[0m │\n",
       "└───────────────┴─────────────────────┘\n"
      ]
     },
     "metadata": {},
     "output_type": "display_data"
    }
   ],
   "source": [
    "joy = [134134, 34234, 2, 0.5, 2, -0.5, 2, 0.7, 2, 0]\n",
    "\n",
    "table_joystick_ma = Table(title='Joystick')\n",
    "\n",
    "joystick_ma_columns = ['Signal', 'Value']\n",
    "\n",
    "joystick_ma_rows = []\n",
    "\n",
    "i = 0\n",
    "while i < len(joy):\n",
    "    \n",
    "    if(2 == i):\n",
    "        try:\n",
    "            joy_value = joystick_ma_brake_modes[joy[i]]\n",
    "        except:\n",
    "            joy_value = '--'\n",
    "        \n",
    "    elif(4 == i):\n",
    "        try:\n",
    "            joy_value = joystick_ma_steer_modes[joy[i]]\n",
    "        except:\n",
    "            joy_value = '--'\n",
    "        \n",
    "    elif(6 == i):\n",
    "        try:\n",
    "            joy_value = joystick_ma_gas_modes[joy[i]]\n",
    "        except:\n",
    "            joy_value = '--'\n",
    "        \n",
    "    elif(8 == i):\n",
    "        try:\n",
    "            joy_value = joystick_ma_gear_modes[joy[i]]\n",
    "        except:\n",
    "            joy_value = '--'\n",
    "        \n",
    "    else:\n",
    "        joy_value = joy[i]\n",
    "    \n",
    "    joystick_ma_rows.append([Text(joystick_ma_labels[i],style='bright_green'), Text(str(joy_value)+' '+joystick_ma_units[i],style='bright_green')])\n",
    "        \n",
    "    i = i + 1\n",
    "    \n",
    "for column in joystick_ma_columns:\n",
    "    table_joystick_ma.add_column(column)\n",
    "\n",
    "for row in joystick_ma_rows:\n",
    "    table_joystick_ma.add_row(*row)\n",
    "    \n",
    "console = Console()\n",
    "console.print(table_joystick_ma)"
   ]
  },
  {
   "cell_type": "code",
   "execution_count": null,
   "metadata": {},
   "outputs": [],
   "source": []
  }
 ],
 "metadata": {
  "kernelspec": {
   "display_name": "Python 3",
   "language": "python",
   "name": "python3"
  },
  "language_info": {
   "codemirror_mode": {
    "name": "ipython",
    "version": 3
   },
   "file_extension": ".py",
   "mimetype": "text/x-python",
   "name": "python",
   "nbconvert_exporter": "python",
   "pygments_lexer": "ipython3",
   "version": "3.10.12"
  }
 },
 "nbformat": 4,
 "nbformat_minor": 2
}
